{
  "nbformat": 4,
  "nbformat_minor": 0,
  "metadata": {
    "colab": {
      "provenance": []
    },
    "kernelspec": {
      "name": "python3",
      "display_name": "Python 3"
    },
    "language_info": {
      "name": "python"
    }
  },
  "cells": [
    {
      "cell_type": "code",
      "execution_count": null,
      "metadata": {
        "id": "S5xOEhCR6N2b"
      },
      "outputs": [],
      "source": [
        "# Tasks on Nifty data sets:\n",
        "# 1) In 2022 how many days was nifty 50 volatile ( high > 105% of low).\n",
        "# 2) In 2022 how many days was nifty Next 50 volatile ( high > 105% of low).\n",
        "# 3) In 2022 how many days belonged to 4 classes (nifty 50 volatile , nifty 50  non volatile , Next 50 volatile & Next 50 non volatile ).\n",
        "# 4) Compute the mean, median and std var of closing value for each weekday in nifty 50 for 2022.\n",
        "# 5) Compute the mean, median and std var of closing value for each month in nifty 50 for 2022.\n",
        "# 6) On days where nifty50 closed higher than the open, what was the mean of ( close – open) for niftyNext 50.\n",
        "# 7) In 2022, how many days had the days high lower then the pervious days low in nifty50.\n",
        "# 8) In 2022, how many days did days close exceed the 30day moving average in niftyNext50(Excluding first month.)"
      ]
    },
    {
      "cell_type": "code",
      "source": [
        "# find the below using numpy:\n",
        "# 1) What fraction of days did the market close higher than the previous day’s close\n",
        "# 2) Compute moving average of the last 5 days\n",
        "# 3) Subset the data to include only data for Friday"
      ],
      "metadata": {
        "id": "vDV87raK6m7u"
      },
      "execution_count": null,
      "outputs": []
    },
    {
      "cell_type": "code",
      "source": [
        "import pandas as pd\n",
        "import numpy as np\n",
        "nfty_50 = pd.read_csv(\"NIFTY 50_Data.csv\")\n",
        "print(nfty_50)"
      ],
      "metadata": {
        "colab": {
          "base_uri": "https://localhost:8080/"
        },
        "id": "Mr0ZtcnQB9RL",
        "outputId": "a9dedd5d-e41d-40de-a975-7705742ddad6"
      },
      "execution_count": null,
      "outputs": [
        {
          "output_type": "stream",
          "name": "stdout",
          "text": [
            "           Date      Open      High       Low     Close\n",
            "0   17 Jan 2023  17922.80  18072.05  17886.95  18053.30\n",
            "1   16 Jan 2023  18033.15  18049.65  17853.65  17894.85\n",
            "2   13 Jan 2023  17867.50  17999.35  17774.25  17956.60\n",
            "3   12 Jan 2023  17920.85  17945.80  17761.65  17858.20\n",
            "4   11 Jan 2023  17924.25  17976.35  17824.35  17895.70\n",
            "..          ...       ...       ...       ...       ...\n",
            "91  07 Sep 2022  17519.40  17650.75  17484.30  17624.40\n",
            "92  06 Sep 2022  17695.70  17764.65  17587.65  17655.60\n",
            "93  05 Sep 2022  17546.45  17683.15  17540.35  17665.80\n",
            "94  02 Sep 2022  17598.40  17643.85  17476.45  17539.45\n",
            "95  01 Sep 2022  17485.70  17695.60  17468.45  17542.80\n",
            "\n",
            "[96 rows x 5 columns]\n"
          ]
        }
      ]
    },
    {
      "cell_type": "code",
      "source": [
        "# 1) In 2022 how many days was nifty 50 volatile ( high > 105% of low).\n",
        "nfty_50[(nfty_50[\"High\"])>(nfty_50[\"Low\"]*(105/100))].count()"
      ],
      "metadata": {
        "colab": {
          "base_uri": "https://localhost:8080/"
        },
        "id": "6PfNP5IIB9TX",
        "outputId": "5891e63b-db5c-443b-84fc-5409fca53e1d"
      },
      "execution_count": null,
      "outputs": [
        {
          "output_type": "execute_result",
          "data": {
            "text/plain": [
              "Date     0\n",
              "Open     0\n",
              "High     0\n",
              "Low      0\n",
              "Close    0\n",
              "dtype: int64"
            ]
          },
          "metadata": {},
          "execution_count": 4
        }
      ]
    },
    {
      "cell_type": "code",
      "source": [
        "#2) In 2022 how many days was nifty Next 50 volatile ( high > 105% of low).\n",
        "nfty_next_50=pd.read_csv(\"NIFTY NEXT 50_Data.csv\")\n",
        "print(nfty_next_50)\n",
        "nfty_next_50[(nfty_next_50[\"High\"])>(nfty_next_50[\"Low\"]*(105/100))].count()"
      ],
      "metadata": {
        "colab": {
          "base_uri": "https://localhost:8080/"
        },
        "id": "nRqn1PVlB9WD",
        "outputId": "07cc25f9-d69a-4d8e-b2a7-fcb38321c88e"
      },
      "execution_count": null,
      "outputs": [
        {
          "output_type": "stream",
          "name": "stdout",
          "text": [
            "            Date      Open      High       Low     Close\n",
            "0    30 Dec 2022  42542.75  42665.35  42105.30  42187.65\n",
            "1    29 Dec 2022  42089.45  42435.65  41739.85  42252.55\n",
            "2    28 Dec 2022  42116.60  42395.15  41987.20  42261.45\n",
            "3    27 Dec 2022  41946.70  42178.35  41764.75  42139.40\n",
            "4    26 Dec 2022  40773.00  41856.65  40401.40  41712.70\n",
            "..           ...       ...       ...       ...       ...\n",
            "243  07 Jan 2022  42739.05  42964.85  42574.20  42826.35\n",
            "244  06 Jan 2022  42531.05  42678.60  42300.45  42649.60\n",
            "245  05 Jan 2022  42574.40  42789.25  42431.50  42760.40\n",
            "246  04 Jan 2022  42746.80  42776.80  42247.15  42556.35\n",
            "247  03 Jan 2022  42323.50  42607.90  42289.65  42549.70\n",
            "\n",
            "[248 rows x 5 columns]\n"
          ]
        },
        {
          "output_type": "execute_result",
          "data": {
            "text/plain": [
              "Date     0\n",
              "Open     0\n",
              "High     0\n",
              "Low      0\n",
              "Close    0\n",
              "dtype: int64"
            ]
          },
          "metadata": {},
          "execution_count": 5
        }
      ]
    },
    {
      "cell_type": "code",
      "source": [
        "# 3) In 2022 how many days belonged to 4 classes (nifty 50 volatile , nifty 50  non volatile , Next 50 volatile & Next 50 non volatile ).\n",
        "nfty_50[\"volatile\"]=(nfty_50[\"High\"])>(nfty_50[\"Low\"]*(105/100))\n",
        "nfty_50[\"non_volatile\"]=(nfty_50[\"High\"])<(nfty_50[\"Low\"]*(105/100))\n",
        "nfty_next_50[\"next_volatile\"]=(nfty_50[\"High\"])>(nfty_50[\"Low\"]*(105/100))\n",
        "nfty_next_50[\"next_non_volatile\"]=(nfty_50[\"High\"])<(nfty_50[\"Low\"]*(105/100))\n",
        "print(nfty_next_50[\"next_volatile\"].count())\n",
        "print(nfty_50,\"\\n\",nfty_next_50)\n",
        "# print(pd.DataFrame(nfty_50[\"volatile\"],nfty_next_50[\"next_volatile\"]))"
      ],
      "metadata": {
        "colab": {
          "base_uri": "https://localhost:8080/",
          "height": 252
        },
        "id": "PYhvPDc6B9YZ",
        "outputId": "f6baedb1-d5ae-48b6-a5cb-af2a5194de50"
      },
      "execution_count": null,
      "outputs": [
        {
          "output_type": "error",
          "ename": "NameError",
          "evalue": "ignored",
          "traceback": [
            "\u001b[0;31m---------------------------------------------------------------------------\u001b[0m",
            "\u001b[0;31mNameError\u001b[0m                                 Traceback (most recent call last)",
            "\u001b[0;32m<ipython-input-1-5367718000b1>\u001b[0m in \u001b[0;36m<module>\u001b[0;34m\u001b[0m\n\u001b[1;32m      1\u001b[0m \u001b[0;31m# 3) In 2022 how many days belonged to 4 classes (nifty 50 volatile , nifty 50  non volatile , Next 50 volatile & Next 50 non volatile ).\u001b[0m\u001b[0;34m\u001b[0m\u001b[0;34m\u001b[0m\u001b[0;34m\u001b[0m\u001b[0m\n\u001b[0;32m----> 2\u001b[0;31m \u001b[0mnfty_50\u001b[0m\u001b[0;34m[\u001b[0m\u001b[0;34m\"volatile\"\u001b[0m\u001b[0;34m]\u001b[0m\u001b[0;34m=\u001b[0m\u001b[0;34m(\u001b[0m\u001b[0mnfty_50\u001b[0m\u001b[0;34m[\u001b[0m\u001b[0;34m\"High\"\u001b[0m\u001b[0;34m]\u001b[0m\u001b[0;34m)\u001b[0m\u001b[0;34m>\u001b[0m\u001b[0;34m(\u001b[0m\u001b[0mnfty_50\u001b[0m\u001b[0;34m[\u001b[0m\u001b[0;34m\"Low\"\u001b[0m\u001b[0;34m]\u001b[0m\u001b[0;34m*\u001b[0m\u001b[0;34m(\u001b[0m\u001b[0;36m105\u001b[0m\u001b[0;34m/\u001b[0m\u001b[0;36m100\u001b[0m\u001b[0;34m)\u001b[0m\u001b[0;34m)\u001b[0m\u001b[0;34m\u001b[0m\u001b[0;34m\u001b[0m\u001b[0m\n\u001b[0m\u001b[1;32m      3\u001b[0m \u001b[0mnfty_50\u001b[0m\u001b[0;34m[\u001b[0m\u001b[0;34m\"non_volatile\"\u001b[0m\u001b[0;34m]\u001b[0m\u001b[0;34m=\u001b[0m\u001b[0;34m(\u001b[0m\u001b[0mnfty_50\u001b[0m\u001b[0;34m[\u001b[0m\u001b[0;34m\"High\"\u001b[0m\u001b[0;34m]\u001b[0m\u001b[0;34m)\u001b[0m\u001b[0;34m<\u001b[0m\u001b[0;34m(\u001b[0m\u001b[0mnfty_50\u001b[0m\u001b[0;34m[\u001b[0m\u001b[0;34m\"Low\"\u001b[0m\u001b[0;34m]\u001b[0m\u001b[0;34m*\u001b[0m\u001b[0;34m(\u001b[0m\u001b[0;36m105\u001b[0m\u001b[0;34m/\u001b[0m\u001b[0;36m100\u001b[0m\u001b[0;34m)\u001b[0m\u001b[0;34m)\u001b[0m\u001b[0;34m\u001b[0m\u001b[0;34m\u001b[0m\u001b[0m\n\u001b[1;32m      4\u001b[0m \u001b[0mnfty_next_50\u001b[0m\u001b[0;34m[\u001b[0m\u001b[0;34m\"next_volatile\"\u001b[0m\u001b[0;34m]\u001b[0m\u001b[0;34m=\u001b[0m\u001b[0;34m(\u001b[0m\u001b[0mnfty_50\u001b[0m\u001b[0;34m[\u001b[0m\u001b[0;34m\"High\"\u001b[0m\u001b[0;34m]\u001b[0m\u001b[0;34m)\u001b[0m\u001b[0;34m>\u001b[0m\u001b[0;34m(\u001b[0m\u001b[0mnfty_50\u001b[0m\u001b[0;34m[\u001b[0m\u001b[0;34m\"Low\"\u001b[0m\u001b[0;34m]\u001b[0m\u001b[0;34m*\u001b[0m\u001b[0;34m(\u001b[0m\u001b[0;36m105\u001b[0m\u001b[0;34m/\u001b[0m\u001b[0;36m100\u001b[0m\u001b[0;34m)\u001b[0m\u001b[0;34m)\u001b[0m\u001b[0;34m\u001b[0m\u001b[0;34m\u001b[0m\u001b[0m\n\u001b[1;32m      5\u001b[0m \u001b[0mnfty_next_50\u001b[0m\u001b[0;34m[\u001b[0m\u001b[0;34m\"next_non_volatile\"\u001b[0m\u001b[0;34m]\u001b[0m\u001b[0;34m=\u001b[0m\u001b[0;34m(\u001b[0m\u001b[0mnfty_50\u001b[0m\u001b[0;34m[\u001b[0m\u001b[0;34m\"High\"\u001b[0m\u001b[0;34m]\u001b[0m\u001b[0;34m)\u001b[0m\u001b[0;34m<\u001b[0m\u001b[0;34m(\u001b[0m\u001b[0mnfty_50\u001b[0m\u001b[0;34m[\u001b[0m\u001b[0;34m\"Low\"\u001b[0m\u001b[0;34m]\u001b[0m\u001b[0;34m*\u001b[0m\u001b[0;34m(\u001b[0m\u001b[0;36m105\u001b[0m\u001b[0;34m/\u001b[0m\u001b[0;36m100\u001b[0m\u001b[0;34m)\u001b[0m\u001b[0;34m)\u001b[0m\u001b[0;34m\u001b[0m\u001b[0;34m\u001b[0m\u001b[0m\n",
            "\u001b[0;31mNameError\u001b[0m: name 'nfty_50' is not defined"
          ]
        }
      ]
    },
    {
      "cell_type": "code",
      "source": [
        "#4) Compute the mean, median and std var of closing value for each weekday in nifty 50 for 2022.\n",
        "print(nfty_50[\"Close\"].describe(include=\"all\"))\n",
        "nfty_50[\"Close\"].median()"
      ],
      "metadata": {
        "colab": {
          "base_uri": "https://localhost:8080/"
        },
        "id": "jRkpGwA7B9ab",
        "outputId": "e9ed57e4-7613-4522-a433-3b07b346b68f"
      },
      "execution_count": null,
      "outputs": [
        {
          "output_type": "stream",
          "name": "stdout",
          "text": [
            "count       96.000000\n",
            "mean     17934.648958\n",
            "std        493.376136\n",
            "min      16818.100000\n",
            "25%      17623.862500\n",
            "50%      18013.400000\n",
            "75%      18278.662500\n",
            "max      18812.500000\n",
            "Name: Close, dtype: float64\n"
          ]
        },
        {
          "output_type": "execute_result",
          "data": {
            "text/plain": [
              "18013.4"
            ]
          },
          "metadata": {},
          "execution_count": 7
        }
      ]
    },
    {
      "cell_type": "code",
      "source": [
        "#5) Compute the mean, median and std var of closing value for each month in nifty 50 for 2022.\n"
      ],
      "metadata": {
        "id": "HEQ0t40uB9ce"
      },
      "execution_count": null,
      "outputs": []
    },
    {
      "cell_type": "code",
      "source": [
        "#6) On days where nifty50 closed higher than the open, what was the mean of ( close – open) for niftyNext 50.\n",
        "nfty_50=pd.read_csv(\"NIFTY 50_Data.csv\", index_col=0)\n",
        "nfty_next_50=pd.read_csv(\"NIFTY 50_Data.csv\", index_col=0)\n",
        "cl=nfty_50[\"Close\"]\n",
        "op=nfty_50[\"Open\"]\n",
        "cl_nxt = nfty_next_50[\"Close\"]\n",
        "op_nxt = nfty_next_50[\"Open\"]\n",
        "mean_next_50 = (cl_nxt-op_nxt).mean()\n",
        "new_df_50_nxt=pd.DataFrame({'Close':cl,'Open':op})\n",
        "new_df_50_nxt[\"diff\"]=(cl_nxt-op_nxt)\n",
        "new_df_50_nxt[(new_df_50_nxt[\"Close\"]>new_df_50_nxt[\"Open\"])]"
      ],
      "metadata": {
        "colab": {
          "base_uri": "https://localhost:8080/",
          "height": 1000
        },
        "id": "Y83Qi-nzB9e3",
        "outputId": "3676c5c7-73d0-4672-ce8c-9abd86acd2e3"
      },
      "execution_count": null,
      "outputs": [
        {
          "output_type": "execute_result",
          "data": {
            "text/plain": [
              "                Close      Open    diff\n",
              "Date                                   \n",
              "17 Jan 2023  18053.30  17922.80  130.50\n",
              "13 Jan 2023  17956.60  17867.50   89.10\n",
              "09 Jan 2023  18101.20  17952.55  148.65\n",
              "03 Jan 2023  18232.55  18163.20   69.35\n",
              "02 Jan 2023  18197.45  18131.70   65.75\n",
              "29 Dec 2022  18191.00  18045.70  145.30\n",
              "28 Dec 2022  18122.50  18084.75   37.75\n",
              "27 Dec 2022  18132.30  18089.80   42.50\n",
              "26 Dec 2022  18014.60  17830.40  184.20\n",
              "20 Dec 2022  18385.30  18340.30   45.00\n",
              "19 Dec 2022  18420.45  18288.10  132.35\n",
              "13 Dec 2022  18608.00  18524.40   83.60\n",
              "12 Dec 2022  18497.15  18402.15   95.00\n",
              "08 Dec 2022  18609.35  18570.85   38.50\n",
              "06 Dec 2022  18642.75  18600.65   42.10\n",
              "30 Nov 2022  18758.35  18625.70  132.65\n",
              "29 Nov 2022  18618.05  18552.45   65.60\n",
              "28 Nov 2022  18562.75  18430.55  132.20\n",
              "24 Nov 2022  18484.10  18326.10  158.00\n",
              "22 Nov 2022  18244.20  18179.15   65.05\n",
              "16 Nov 2022  18409.65  18398.25   11.40\n",
              "15 Nov 2022  18403.40  18362.75   40.65\n",
              "11 Nov 2022  18349.70  18272.35   77.35\n",
              "04 Nov 2022  18117.15  18053.40   63.75\n",
              "03 Nov 2022  18052.70  17968.35   84.35\n",
              "01 Nov 2022  18145.40  18130.70   14.70\n",
              "31 Oct 2022  18012.20  17910.20  102.00\n",
              "28 Oct 2022  17786.80  17756.40   30.40\n",
              "20 Oct 2022  17563.95  17423.10  140.85\n",
              "18 Oct 2022  17486.95  17438.75   48.20\n",
              "17 Oct 2022  17311.80  17144.80  167.00\n",
              "12 Oct 2022  17123.60  17025.55   98.05\n",
              "10 Oct 2022  17241.00  17094.35  146.65\n",
              "07 Oct 2022  17314.65  17287.20   27.45\n",
              "04 Oct 2022  17274.30  17147.45  126.85\n",
              "30 Sep 2022  17094.35  16798.05  296.30\n",
              "22 Sep 2022  17629.80  17609.65   20.15\n",
              "20 Sep 2022  17816.25  17770.40   45.85\n",
              "19 Sep 2022  17622.25  17540.65   81.60\n",
              "14 Sep 2022  18003.75  17771.15  232.60\n",
              "13 Sep 2022  18070.05  18044.45   25.60\n",
              "12 Sep 2022  17936.35  17890.85   45.50\n",
              "08 Sep 2022  17798.75  17748.15   50.60\n",
              "07 Sep 2022  17624.40  17519.40  105.00\n",
              "05 Sep 2022  17665.80  17546.45  119.35\n",
              "01 Sep 2022  17542.80  17485.70   57.10"
            ],
            "text/html": [
              "\n",
              "  <div id=\"df-e6f1f59e-8496-466a-8a94-5850c69a915a\">\n",
              "    <div class=\"colab-df-container\">\n",
              "      <div>\n",
              "<style scoped>\n",
              "    .dataframe tbody tr th:only-of-type {\n",
              "        vertical-align: middle;\n",
              "    }\n",
              "\n",
              "    .dataframe tbody tr th {\n",
              "        vertical-align: top;\n",
              "    }\n",
              "\n",
              "    .dataframe thead th {\n",
              "        text-align: right;\n",
              "    }\n",
              "</style>\n",
              "<table border=\"1\" class=\"dataframe\">\n",
              "  <thead>\n",
              "    <tr style=\"text-align: right;\">\n",
              "      <th></th>\n",
              "      <th>Close</th>\n",
              "      <th>Open</th>\n",
              "      <th>diff</th>\n",
              "    </tr>\n",
              "    <tr>\n",
              "      <th>Date</th>\n",
              "      <th></th>\n",
              "      <th></th>\n",
              "      <th></th>\n",
              "    </tr>\n",
              "  </thead>\n",
              "  <tbody>\n",
              "    <tr>\n",
              "      <th>17 Jan 2023</th>\n",
              "      <td>18053.30</td>\n",
              "      <td>17922.80</td>\n",
              "      <td>130.50</td>\n",
              "    </tr>\n",
              "    <tr>\n",
              "      <th>13 Jan 2023</th>\n",
              "      <td>17956.60</td>\n",
              "      <td>17867.50</td>\n",
              "      <td>89.10</td>\n",
              "    </tr>\n",
              "    <tr>\n",
              "      <th>09 Jan 2023</th>\n",
              "      <td>18101.20</td>\n",
              "      <td>17952.55</td>\n",
              "      <td>148.65</td>\n",
              "    </tr>\n",
              "    <tr>\n",
              "      <th>03 Jan 2023</th>\n",
              "      <td>18232.55</td>\n",
              "      <td>18163.20</td>\n",
              "      <td>69.35</td>\n",
              "    </tr>\n",
              "    <tr>\n",
              "      <th>02 Jan 2023</th>\n",
              "      <td>18197.45</td>\n",
              "      <td>18131.70</td>\n",
              "      <td>65.75</td>\n",
              "    </tr>\n",
              "    <tr>\n",
              "      <th>29 Dec 2022</th>\n",
              "      <td>18191.00</td>\n",
              "      <td>18045.70</td>\n",
              "      <td>145.30</td>\n",
              "    </tr>\n",
              "    <tr>\n",
              "      <th>28 Dec 2022</th>\n",
              "      <td>18122.50</td>\n",
              "      <td>18084.75</td>\n",
              "      <td>37.75</td>\n",
              "    </tr>\n",
              "    <tr>\n",
              "      <th>27 Dec 2022</th>\n",
              "      <td>18132.30</td>\n",
              "      <td>18089.80</td>\n",
              "      <td>42.50</td>\n",
              "    </tr>\n",
              "    <tr>\n",
              "      <th>26 Dec 2022</th>\n",
              "      <td>18014.60</td>\n",
              "      <td>17830.40</td>\n",
              "      <td>184.20</td>\n",
              "    </tr>\n",
              "    <tr>\n",
              "      <th>20 Dec 2022</th>\n",
              "      <td>18385.30</td>\n",
              "      <td>18340.30</td>\n",
              "      <td>45.00</td>\n",
              "    </tr>\n",
              "    <tr>\n",
              "      <th>19 Dec 2022</th>\n",
              "      <td>18420.45</td>\n",
              "      <td>18288.10</td>\n",
              "      <td>132.35</td>\n",
              "    </tr>\n",
              "    <tr>\n",
              "      <th>13 Dec 2022</th>\n",
              "      <td>18608.00</td>\n",
              "      <td>18524.40</td>\n",
              "      <td>83.60</td>\n",
              "    </tr>\n",
              "    <tr>\n",
              "      <th>12 Dec 2022</th>\n",
              "      <td>18497.15</td>\n",
              "      <td>18402.15</td>\n",
              "      <td>95.00</td>\n",
              "    </tr>\n",
              "    <tr>\n",
              "      <th>08 Dec 2022</th>\n",
              "      <td>18609.35</td>\n",
              "      <td>18570.85</td>\n",
              "      <td>38.50</td>\n",
              "    </tr>\n",
              "    <tr>\n",
              "      <th>06 Dec 2022</th>\n",
              "      <td>18642.75</td>\n",
              "      <td>18600.65</td>\n",
              "      <td>42.10</td>\n",
              "    </tr>\n",
              "    <tr>\n",
              "      <th>30 Nov 2022</th>\n",
              "      <td>18758.35</td>\n",
              "      <td>18625.70</td>\n",
              "      <td>132.65</td>\n",
              "    </tr>\n",
              "    <tr>\n",
              "      <th>29 Nov 2022</th>\n",
              "      <td>18618.05</td>\n",
              "      <td>18552.45</td>\n",
              "      <td>65.60</td>\n",
              "    </tr>\n",
              "    <tr>\n",
              "      <th>28 Nov 2022</th>\n",
              "      <td>18562.75</td>\n",
              "      <td>18430.55</td>\n",
              "      <td>132.20</td>\n",
              "    </tr>\n",
              "    <tr>\n",
              "      <th>24 Nov 2022</th>\n",
              "      <td>18484.10</td>\n",
              "      <td>18326.10</td>\n",
              "      <td>158.00</td>\n",
              "    </tr>\n",
              "    <tr>\n",
              "      <th>22 Nov 2022</th>\n",
              "      <td>18244.20</td>\n",
              "      <td>18179.15</td>\n",
              "      <td>65.05</td>\n",
              "    </tr>\n",
              "    <tr>\n",
              "      <th>16 Nov 2022</th>\n",
              "      <td>18409.65</td>\n",
              "      <td>18398.25</td>\n",
              "      <td>11.40</td>\n",
              "    </tr>\n",
              "    <tr>\n",
              "      <th>15 Nov 2022</th>\n",
              "      <td>18403.40</td>\n",
              "      <td>18362.75</td>\n",
              "      <td>40.65</td>\n",
              "    </tr>\n",
              "    <tr>\n",
              "      <th>11 Nov 2022</th>\n",
              "      <td>18349.70</td>\n",
              "      <td>18272.35</td>\n",
              "      <td>77.35</td>\n",
              "    </tr>\n",
              "    <tr>\n",
              "      <th>04 Nov 2022</th>\n",
              "      <td>18117.15</td>\n",
              "      <td>18053.40</td>\n",
              "      <td>63.75</td>\n",
              "    </tr>\n",
              "    <tr>\n",
              "      <th>03 Nov 2022</th>\n",
              "      <td>18052.70</td>\n",
              "      <td>17968.35</td>\n",
              "      <td>84.35</td>\n",
              "    </tr>\n",
              "    <tr>\n",
              "      <th>01 Nov 2022</th>\n",
              "      <td>18145.40</td>\n",
              "      <td>18130.70</td>\n",
              "      <td>14.70</td>\n",
              "    </tr>\n",
              "    <tr>\n",
              "      <th>31 Oct 2022</th>\n",
              "      <td>18012.20</td>\n",
              "      <td>17910.20</td>\n",
              "      <td>102.00</td>\n",
              "    </tr>\n",
              "    <tr>\n",
              "      <th>28 Oct 2022</th>\n",
              "      <td>17786.80</td>\n",
              "      <td>17756.40</td>\n",
              "      <td>30.40</td>\n",
              "    </tr>\n",
              "    <tr>\n",
              "      <th>20 Oct 2022</th>\n",
              "      <td>17563.95</td>\n",
              "      <td>17423.10</td>\n",
              "      <td>140.85</td>\n",
              "    </tr>\n",
              "    <tr>\n",
              "      <th>18 Oct 2022</th>\n",
              "      <td>17486.95</td>\n",
              "      <td>17438.75</td>\n",
              "      <td>48.20</td>\n",
              "    </tr>\n",
              "    <tr>\n",
              "      <th>17 Oct 2022</th>\n",
              "      <td>17311.80</td>\n",
              "      <td>17144.80</td>\n",
              "      <td>167.00</td>\n",
              "    </tr>\n",
              "    <tr>\n",
              "      <th>12 Oct 2022</th>\n",
              "      <td>17123.60</td>\n",
              "      <td>17025.55</td>\n",
              "      <td>98.05</td>\n",
              "    </tr>\n",
              "    <tr>\n",
              "      <th>10 Oct 2022</th>\n",
              "      <td>17241.00</td>\n",
              "      <td>17094.35</td>\n",
              "      <td>146.65</td>\n",
              "    </tr>\n",
              "    <tr>\n",
              "      <th>07 Oct 2022</th>\n",
              "      <td>17314.65</td>\n",
              "      <td>17287.20</td>\n",
              "      <td>27.45</td>\n",
              "    </tr>\n",
              "    <tr>\n",
              "      <th>04 Oct 2022</th>\n",
              "      <td>17274.30</td>\n",
              "      <td>17147.45</td>\n",
              "      <td>126.85</td>\n",
              "    </tr>\n",
              "    <tr>\n",
              "      <th>30 Sep 2022</th>\n",
              "      <td>17094.35</td>\n",
              "      <td>16798.05</td>\n",
              "      <td>296.30</td>\n",
              "    </tr>\n",
              "    <tr>\n",
              "      <th>22 Sep 2022</th>\n",
              "      <td>17629.80</td>\n",
              "      <td>17609.65</td>\n",
              "      <td>20.15</td>\n",
              "    </tr>\n",
              "    <tr>\n",
              "      <th>20 Sep 2022</th>\n",
              "      <td>17816.25</td>\n",
              "      <td>17770.40</td>\n",
              "      <td>45.85</td>\n",
              "    </tr>\n",
              "    <tr>\n",
              "      <th>19 Sep 2022</th>\n",
              "      <td>17622.25</td>\n",
              "      <td>17540.65</td>\n",
              "      <td>81.60</td>\n",
              "    </tr>\n",
              "    <tr>\n",
              "      <th>14 Sep 2022</th>\n",
              "      <td>18003.75</td>\n",
              "      <td>17771.15</td>\n",
              "      <td>232.60</td>\n",
              "    </tr>\n",
              "    <tr>\n",
              "      <th>13 Sep 2022</th>\n",
              "      <td>18070.05</td>\n",
              "      <td>18044.45</td>\n",
              "      <td>25.60</td>\n",
              "    </tr>\n",
              "    <tr>\n",
              "      <th>12 Sep 2022</th>\n",
              "      <td>17936.35</td>\n",
              "      <td>17890.85</td>\n",
              "      <td>45.50</td>\n",
              "    </tr>\n",
              "    <tr>\n",
              "      <th>08 Sep 2022</th>\n",
              "      <td>17798.75</td>\n",
              "      <td>17748.15</td>\n",
              "      <td>50.60</td>\n",
              "    </tr>\n",
              "    <tr>\n",
              "      <th>07 Sep 2022</th>\n",
              "      <td>17624.40</td>\n",
              "      <td>17519.40</td>\n",
              "      <td>105.00</td>\n",
              "    </tr>\n",
              "    <tr>\n",
              "      <th>05 Sep 2022</th>\n",
              "      <td>17665.80</td>\n",
              "      <td>17546.45</td>\n",
              "      <td>119.35</td>\n",
              "    </tr>\n",
              "    <tr>\n",
              "      <th>01 Sep 2022</th>\n",
              "      <td>17542.80</td>\n",
              "      <td>17485.70</td>\n",
              "      <td>57.10</td>\n",
              "    </tr>\n",
              "  </tbody>\n",
              "</table>\n",
              "</div>\n",
              "      <button class=\"colab-df-convert\" onclick=\"convertToInteractive('df-e6f1f59e-8496-466a-8a94-5850c69a915a')\"\n",
              "              title=\"Convert this dataframe to an interactive table.\"\n",
              "              style=\"display:none;\">\n",
              "        \n",
              "  <svg xmlns=\"http://www.w3.org/2000/svg\" height=\"24px\"viewBox=\"0 0 24 24\"\n",
              "       width=\"24px\">\n",
              "    <path d=\"M0 0h24v24H0V0z\" fill=\"none\"/>\n",
              "    <path d=\"M18.56 5.44l.94 2.06.94-2.06 2.06-.94-2.06-.94-.94-2.06-.94 2.06-2.06.94zm-11 1L8.5 8.5l.94-2.06 2.06-.94-2.06-.94L8.5 2.5l-.94 2.06-2.06.94zm10 10l.94 2.06.94-2.06 2.06-.94-2.06-.94-.94-2.06-.94 2.06-2.06.94z\"/><path d=\"M17.41 7.96l-1.37-1.37c-.4-.4-.92-.59-1.43-.59-.52 0-1.04.2-1.43.59L10.3 9.45l-7.72 7.72c-.78.78-.78 2.05 0 2.83L4 21.41c.39.39.9.59 1.41.59.51 0 1.02-.2 1.41-.59l7.78-7.78 2.81-2.81c.8-.78.8-2.07 0-2.86zM5.41 20L4 18.59l7.72-7.72 1.47 1.35L5.41 20z\"/>\n",
              "  </svg>\n",
              "      </button>\n",
              "      \n",
              "  <style>\n",
              "    .colab-df-container {\n",
              "      display:flex;\n",
              "      flex-wrap:wrap;\n",
              "      gap: 12px;\n",
              "    }\n",
              "\n",
              "    .colab-df-convert {\n",
              "      background-color: #E8F0FE;\n",
              "      border: none;\n",
              "      border-radius: 50%;\n",
              "      cursor: pointer;\n",
              "      display: none;\n",
              "      fill: #1967D2;\n",
              "      height: 32px;\n",
              "      padding: 0 0 0 0;\n",
              "      width: 32px;\n",
              "    }\n",
              "\n",
              "    .colab-df-convert:hover {\n",
              "      background-color: #E2EBFA;\n",
              "      box-shadow: 0px 1px 2px rgba(60, 64, 67, 0.3), 0px 1px 3px 1px rgba(60, 64, 67, 0.15);\n",
              "      fill: #174EA6;\n",
              "    }\n",
              "\n",
              "    [theme=dark] .colab-df-convert {\n",
              "      background-color: #3B4455;\n",
              "      fill: #D2E3FC;\n",
              "    }\n",
              "\n",
              "    [theme=dark] .colab-df-convert:hover {\n",
              "      background-color: #434B5C;\n",
              "      box-shadow: 0px 1px 3px 1px rgba(0, 0, 0, 0.15);\n",
              "      filter: drop-shadow(0px 1px 2px rgba(0, 0, 0, 0.3));\n",
              "      fill: #FFFFFF;\n",
              "    }\n",
              "  </style>\n",
              "\n",
              "      <script>\n",
              "        const buttonEl =\n",
              "          document.querySelector('#df-e6f1f59e-8496-466a-8a94-5850c69a915a button.colab-df-convert');\n",
              "        buttonEl.style.display =\n",
              "          google.colab.kernel.accessAllowed ? 'block' : 'none';\n",
              "\n",
              "        async function convertToInteractive(key) {\n",
              "          const element = document.querySelector('#df-e6f1f59e-8496-466a-8a94-5850c69a915a');\n",
              "          const dataTable =\n",
              "            await google.colab.kernel.invokeFunction('convertToInteractive',\n",
              "                                                     [key], {});\n",
              "          if (!dataTable) return;\n",
              "\n",
              "          const docLinkHtml = 'Like what you see? Visit the ' +\n",
              "            '<a target=\"_blank\" href=https://colab.research.google.com/notebooks/data_table.ipynb>data table notebook</a>'\n",
              "            + ' to learn more about interactive tables.';\n",
              "          element.innerHTML = '';\n",
              "          dataTable['output_type'] = 'display_data';\n",
              "          await google.colab.output.renderOutput(dataTable, element);\n",
              "          const docLink = document.createElement('div');\n",
              "          docLink.innerHTML = docLinkHtml;\n",
              "          element.appendChild(docLink);\n",
              "        }\n",
              "      </script>\n",
              "    </div>\n",
              "  </div>\n",
              "  "
            ]
          },
          "metadata": {},
          "execution_count": 9
        }
      ]
    },
    {
      "cell_type": "code",
      "source": [
        "# 7) In 2022, how many days had the days high lower then the pervious days low in nifty50.\n",
        "days=0\n",
        "x=list(nfty_50[\"Low\"])  \n",
        "y=list(nfty_50[\"High\"])\n",
        "a=x\n",
        "b=y[1::]\n",
        "z=list(zip(a,b))\n",
        "print(z)\n",
        "for x,y in z:\n",
        "  if y>x:\n",
        "    days+=1\n",
        "print(days)"
      ],
      "metadata": {
        "colab": {
          "base_uri": "https://localhost:8080/"
        },
        "id": "ktbeFOiPB9hN",
        "outputId": "338b4e5f-0262-40e2-ef09-6bbd1ce52e92"
      },
      "execution_count": null,
      "outputs": [
        {
          "output_type": "stream",
          "name": "stdout",
          "text": [
            "[(17886.95, 18049.65), (17853.65, 17999.35), (17774.25, 17945.8), (17761.65, 17976.35), (17824.35, 18127.6), (17856.0, 18141.4), (17936.15, 18047.4), (17795.55, 18120.3), (17892.6, 18243.0), (18020.6, 18251.95), (18149.8, 18215.15), (18086.5, 18265.25), (18080.3, 18229.7), (17992.8, 18173.1), (18068.35, 18149.25), (17967.45, 18084.1), (17774.25, 18050.45), (17779.5, 18318.75), (18068.6, 18473.35), (18162.75, 18404.9), (18202.65, 18431.65), (18244.55, 18440.95), (18255.15, 18652.9), (18387.7, 18696.1), (18632.9, 18617.25), (18490.2, 18521.55), (18345.7, 18664.7), (18410.1, 18625.0), (18536.95, 18668.3), (18528.4, 18654.9), (18577.9, 18728.6), (18591.35, 18781.95), (18639.2, 18887.6), (18778.2, 18816.05), (18616.55, 18678.1), (18552.15, 18614.25), (18365.6, 18534.9), (18445.1, 18529.7), (18294.25, 18325.4), (18246.0, 18261.85), (18137.7, 18262.3), (18133.35, 18394.6), (18209.8, 18417.6), (18312.95, 18442.15), (18344.15, 18427.95), (18282.0, 18399.45), (18311.4, 18362.3), (18259.35, 18103.1), (17969.4, 18296.4), (18117.5, 18255.5), (18064.75, 18135.1), (18017.15, 18106.3), (17959.2, 18178.75), (18048.65, 18175.8), (18060.15, 18022.8), (17899.9, 17838.9), (17723.7, 17783.9), (17654.5, 17811.5), (17637.0, 17777.55), (17707.4, 17670.15), (17520.75, 17584.15), (17421.0, 17607.6), (17472.85, 17527.8), (17434.05, 17328.55), (17098.55, 17348.55), (17169.75, 17112.35), (16956.95, 17142.35), (16960.05, 17261.8), (16950.3, 17280.15), (17064.7, 17337.35), (17216.95, 17428.8), (17315.65, 17287.3), (17117.3, 17114.65), (16855.55, 17187.1), (16747.7, 17026.05), (16788.6, 17037.6), (16820.4, 17176.45), (16942.35, 17196.4), (16978.3, 17642.15), (17291.65, 17722.75), (17532.45, 17838.7), (17663.6, 17919.3), (17744.4, 17667.2), (17429.7, 17820.05), (17497.25, 18096.15), (17861.5, 18091.55), (17771.15, 18088.3), (18015.45, 17980.55), (17889.15, 17925.95), (17786.0, 17807.65), (17691.95, 17650.75), (17484.3, 17764.65), (17587.65, 17683.15), (17540.35, 17643.85), (17476.45, 17695.6)]\n",
            "83\n"
          ]
        }
      ]
    },
    {
      "cell_type": "code",
      "source": [
        "# 8) In 2022, how many days did days close exceed the 30day moving average in niftyNext50(Excluding first month.)\n",
        "\n",
        "#SMA \n",
        "def sma(data,period =30, column=\"Close\"):\n",
        "  return data[column].rolling(window=period).mean()\n",
        "\n",
        "nfty_50[\"MVA_30\"]=sma(nfty_50)\n",
        "nfty_50[\"cls_exced_SMA\"]=nfty_50[\"Close\"]>nfty_50[\"MVA_30\"]\n",
        "print(nfty_50)\n",
        "print(nfty_50[\"cls_exced_SMA\"].value_counts())\n",
        "# 26 times "
      ],
      "metadata": {
        "id": "vjyfyARdB9i-",
        "colab": {
          "base_uri": "https://localhost:8080/"
        },
        "outputId": "df91dd26-11d1-45d0-ae24-1fdbcdcf203a"
      },
      "execution_count": null,
      "outputs": [
        {
          "output_type": "stream",
          "name": "stdout",
          "text": [
            "                 Open      High       Low     Close        MVA_30  \\\n",
            "Date                                                                \n",
            "17 Jan 2023  17922.80  18072.05  17886.95  18053.30           NaN   \n",
            "16 Jan 2023  18033.15  18049.65  17853.65  17894.85           NaN   \n",
            "13 Jan 2023  17867.50  17999.35  17774.25  17956.60           NaN   \n",
            "12 Jan 2023  17920.85  17945.80  17761.65  17858.20           NaN   \n",
            "11 Jan 2023  17924.25  17976.35  17824.35  17895.70           NaN   \n",
            "...               ...       ...       ...       ...           ...   \n",
            "07 Sep 2022  17519.40  17650.75  17484.30  17624.40  17408.365000   \n",
            "06 Sep 2022  17695.70  17764.65  17587.65  17655.60  17413.143333   \n",
            "05 Sep 2022  17546.45  17683.15  17540.35  17665.80  17419.105000   \n",
            "02 Sep 2022  17598.40  17643.85  17476.45  17539.45  17426.693333   \n",
            "01 Sep 2022  17485.70  17695.60  17468.45  17542.80  17438.596667   \n",
            "\n",
            "             cls_exced_SMA  \n",
            "Date                        \n",
            "17 Jan 2023          False  \n",
            "16 Jan 2023          False  \n",
            "13 Jan 2023          False  \n",
            "12 Jan 2023          False  \n",
            "11 Jan 2023          False  \n",
            "...                    ...  \n",
            "07 Sep 2022           True  \n",
            "06 Sep 2022           True  \n",
            "05 Sep 2022           True  \n",
            "02 Sep 2022           True  \n",
            "01 Sep 2022           True  \n",
            "\n",
            "[96 rows x 6 columns]\n",
            "False    70\n",
            "True     26\n",
            "Name: cls_exced_SMA, dtype: int64\n"
          ]
        }
      ]
    },
    {
      "cell_type": "code",
      "source": [
        "#USING NUMPY\n",
        "#1) What fraction of days did the market close higher than the previous day’s close\n",
        "import numpy as np\n",
        "y=nfty_50[\"Close\"]\n",
        "z=y.count()\n",
        "arr=np.array(y)\n",
        "\n",
        "def mrk_cls(arr,days=0):\n",
        "  j=1\n",
        "  for i in arr:\n",
        "    if arr[j]>i:\n",
        "      days+=1\n",
        "  return days\n",
        "\n",
        "fraction_days= mrk_cls(arr)/z\n",
        "print(fraction_days)"
      ],
      "metadata": {
        "colab": {
          "base_uri": "https://localhost:8080/"
        },
        "id": "rBTRSFOnaJtL",
        "outputId": "87519b6b-9929-45c5-e941-7c80c29d6124"
      },
      "execution_count": null,
      "outputs": [
        {
          "output_type": "stream",
          "name": "stdout",
          "text": [
            "0.4166666666666667\n"
          ]
        }
      ]
    },
    {
      "cell_type": "code",
      "source": [
        "# 2) Compute moving average of the last 5 days.\n",
        "last_5=nfty_50.tail()\n",
        "#using numpy\n",
        "#moving average of close().\n",
        "last_close=last_5[\"Close\"]\n",
        "arr_close=np.array(last_close)\n",
        "print(arr_close)\n",
        "window_size = 3\n",
        "# Initialize an empty list to store moving averages\n",
        "mvg_avg=[]\n",
        "i = 0\n",
        "# Loop through the array to\n",
        "#consider every window of size 3\n",
        "while i < len(arr_close) - window_size + 1:\n",
        "  \n",
        "    # Calculate the average of current window\n",
        "    window_average = round(np.sum(arr_close[\n",
        "      i:i+window_size]) / window_size, 2)\n",
        "      \n",
        "    # Store the average of current\n",
        "    # window in moving average list\n",
        "    mvg_avg.append(window_average)\n",
        "      \n",
        "    # Shift window to right by one position\n",
        "    i += 1\n",
        "  \n",
        "print(mvg_avg)"
      ],
      "metadata": {
        "colab": {
          "base_uri": "https://localhost:8080/"
        },
        "id": "kG2iSRNoioMy",
        "outputId": "47619ec2-8346-487e-9afc-2ec00b55acc7"
      },
      "execution_count": null,
      "outputs": [
        {
          "output_type": "stream",
          "name": "stdout",
          "text": [
            "[17624.4  17655.6  17665.8  17539.45 17542.8 ]\n",
            "[17648.6, 17620.28, 17582.68]\n"
          ]
        }
      ]
    },
    {
      "cell_type": "code",
      "source": [
        "#3) Subset the data to include only data for Friday."
      ],
      "metadata": {
        "id": "fBNOBSjLoK6d"
      },
      "execution_count": null,
      "outputs": []
    },
    {
      "cell_type": "code",
      "source": [
        "z=filter(lambda x:x%2==0,[2,3,4,5,6,7,8,9])\n",
        "print(list(z))"
      ],
      "metadata": {
        "colab": {
          "base_uri": "https://localhost:8080/"
        },
        "id": "S0XYdX1eXn5m",
        "outputId": "9517f94f-1ab7-4aa5-f76b-6261c88dad53"
      },
      "execution_count": null,
      "outputs": [
        {
          "output_type": "stream",
          "name": "stdout",
          "text": [
            "[2, 4, 6, 8]\n"
          ]
        }
      ]
    },
    {
      "cell_type": "code",
      "source": [
        "from functools import reduce\n",
        "reduce(lambda x,y:x+y,[2,3,4,5,6,7,8])"
      ],
      "metadata": {
        "colab": {
          "base_uri": "https://localhost:8080/"
        },
        "id": "olUHM-2NZOkm",
        "outputId": "4ee0c14d-534b-42d9-8cdb-2f1ea90d567c"
      },
      "execution_count": null,
      "outputs": [
        {
          "output_type": "execute_result",
          "data": {
            "text/plain": [
              "35"
            ]
          },
          "metadata": {},
          "execution_count": 22
        }
      ]
    },
    {
      "cell_type": "code",
      "source": [
        "def add(x,y):\n",
        "  sum=x+y\n",
        "  return sum\n",
        "\n",
        "reduce(add,[2,3,4,5,6,7,8])"
      ],
      "metadata": {
        "colab": {
          "base_uri": "https://localhost:8080/"
        },
        "id": "WXWGDXFNZoLB",
        "outputId": "de2bd0ce-84c4-457e-8441-13f196c8f574"
      },
      "execution_count": null,
      "outputs": [
        {
          "output_type": "execute_result",
          "data": {
            "text/plain": [
              "35"
            ]
          },
          "metadata": {},
          "execution_count": 23
        }
      ]
    },
    {
      "cell_type": "code",
      "source": [
        "l=[2,3,4,5,6,7,8]\n",
        "np.array(l).sum()"
      ],
      "metadata": {
        "colab": {
          "base_uri": "https://localhost:8080/"
        },
        "id": "9-KEoSYzaevQ",
        "outputId": "173ed907-a7cc-4f1d-8d98-0b0f8aed8337"
      },
      "execution_count": null,
      "outputs": [
        {
          "output_type": "execute_result",
          "data": {
            "text/plain": [
              "35"
            ]
          },
          "metadata": {},
          "execution_count": 27
        }
      ]
    },
    {
      "cell_type": "code",
      "source": [
        "def add1(l):\n",
        "  sum=0\n",
        "  for i in l:\n",
        "    sum=sum+i\n",
        "  return sum\n",
        "\n",
        "add1([2,3,4,5,6,7,8])"
      ],
      "metadata": {
        "colab": {
          "base_uri": "https://localhost:8080/"
        },
        "id": "KChFvvSMaoKT",
        "outputId": "65db6722-55d4-4ab6-ec93-6797ec54b223"
      },
      "execution_count": null,
      "outputs": [
        {
          "output_type": "execute_result",
          "data": {
            "text/plain": [
              "35"
            ]
          },
          "metadata": {},
          "execution_count": 28
        }
      ]
    },
    {
      "cell_type": "code",
      "source": [
        "z=0\n",
        "l=\n",
        "for i in range(0,len(l)+!):\n",
        "  sum = add(z,i)\n"
      ],
      "metadata": {
        "id": "-xELwXoVbSLs"
      },
      "execution_count": null,
      "outputs": []
    }
  ]
}
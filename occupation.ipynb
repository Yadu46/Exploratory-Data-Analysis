{
  "nbformat": 4,
  "nbformat_minor": 0,
  "metadata": {
    "colab": {
      "provenance": []
    },
    "kernelspec": {
      "name": "python3",
      "display_name": "Python 3"
    },
    "language_info": {
      "name": "python"
    }
  },
  "cells": [
    {
      "cell_type": "code",
      "execution_count": null,
      "metadata": {
        "id": "d4DFBk8DCqMR"
      },
      "outputs": [],
      "source": [
        "#1) Upload the data file, view the data file in Colab \n",
        "#2) Read and Assign it to a variable called users and use the 'user_id' as index\n",
        "#3) See the first 25 entries \n",
        "#4) See the last 10 entries \n",
        "#5) What is the number of observations in the dataset? \n",
        "#6) What is the number of columns in the dataset? \n",
        "#7) Print the name of all the columns. \n",
        "#8) How is the dataset indexed? \n",
        "#9) What is the data type of each column? \n",
        "#10) Print only the occupation column\n",
        "#11) How many different occupations are in this dataset? \n",
        "#12) What is the most frequent occupation? \n",
        "#13) Summarize the DataFrame. \n",
        "#14) Summarize all the columns. \n",
        "#15) Summarize only the occupation column?\n",
        "#16) What is the mean age of users? \n",
        "#17) What is the age with least occurrence? \n",
        "#18) Discover what is the mean age per occupation \n",
        "#19) Discover the Male ratio per occupation and sort it from the most to the least \n",
        "#20) For each occupation, calculate the minimum and maximum ages \n",
        "#21) For each combination of occupation and gender, calculate the mean age \n",
        "#22) For each occupation present the percentage of women and men"
      ]
    },
    {
      "cell_type": "code",
      "source": [
        "# 1) Upload the data file, view the data file in Colab.\n",
        "import numpy as np\n",
        "import pandas as pd\n",
        "import seaborn as sb\n",
        "users= pd.read_csv(\"occ.csv\", delimiter=\"|\")\n",
        "print(users)"
      ],
      "metadata": {
        "colab": {
          "base_uri": "https://localhost:8080/"
        },
        "id": "80dE2_aIDSnx",
        "outputId": "14fbaf2d-e7d7-4aed-cd55-a48d2c54b79a"
      },
      "execution_count": null,
      "outputs": [
        {
          "output_type": "stream",
          "name": "stdout",
          "text": [
            "     user_id  age gender     occupation zip_code\n",
            "0          1   24      M     technician    85711\n",
            "1          2   53      F          other    94043\n",
            "2          3   23      M         writer    32067\n",
            "3          4   24      M     technician    43537\n",
            "4          5   33      F          other    15213\n",
            "..       ...  ...    ...            ...      ...\n",
            "938      939   26      F        student    33319\n",
            "939      940   32      M  administrator    02215\n",
            "940      941   20      M        student    97229\n",
            "941      942   48      F      librarian    78209\n",
            "942      943   22      M        student    77841\n",
            "\n",
            "[943 rows x 5 columns]\n"
          ]
        }
      ]
    },
    {
      "cell_type": "code",
      "source": [],
      "metadata": {
        "id": "_uTmVH8bLrNF"
      },
      "execution_count": null,
      "outputs": []
    },
    {
      "cell_type": "code",
      "source": [
        "##2) Read and Assign it to a variable called users and use the 'user_id' as index\n",
        "#method-1\n",
        "users= pd.read_csv(\"occ.csv\", delimiter=\"|\")\n",
        "users.index=users[\"user_id\"]\n",
        "print(users)\n",
        "users.drop(\"user_id\", axis=1 ,inplace=True)\n",
        "print(users)"
      ],
      "metadata": {
        "colab": {
          "base_uri": "https://localhost:8080/"
        },
        "id": "u24Lsqc-E4wo",
        "outputId": "c01ae3b7-fdf4-4f62-9ba5-73d2c51ac210"
      },
      "execution_count": null,
      "outputs": [
        {
          "output_type": "stream",
          "name": "stdout",
          "text": [
            "         user_id  age gender     occupation zip_code\n",
            "user_id                                             \n",
            "1              1   24      M     technician    85711\n",
            "2              2   53      F          other    94043\n",
            "3              3   23      M         writer    32067\n",
            "4              4   24      M     technician    43537\n",
            "5              5   33      F          other    15213\n",
            "...          ...  ...    ...            ...      ...\n",
            "939          939   26      F        student    33319\n",
            "940          940   32      M  administrator    02215\n",
            "941          941   20      M        student    97229\n",
            "942          942   48      F      librarian    78209\n",
            "943          943   22      M        student    77841\n",
            "\n",
            "[943 rows x 5 columns]\n",
            "         age gender     occupation zip_code\n",
            "user_id                                    \n",
            "1         24      M     technician    85711\n",
            "2         53      F          other    94043\n",
            "3         23      M         writer    32067\n",
            "4         24      M     technician    43537\n",
            "5         33      F          other    15213\n",
            "...      ...    ...            ...      ...\n",
            "939       26      F        student    33319\n",
            "940       32      M  administrator    02215\n",
            "941       20      M        student    97229\n",
            "942       48      F      librarian    78209\n",
            "943       22      M        student    77841\n",
            "\n",
            "[943 rows x 4 columns]\n"
          ]
        }
      ]
    },
    {
      "cell_type": "code",
      "source": [
        "##2) Read and Assign it to a variable called users and use the 'user_id' as index\n",
        "print(\"METHOD-2\")\n",
        "users= pd.read_csv(\"occ.csv\", delimiter=\"|\",index_col=\"user_id\") # to make use of colum data as index.\n",
        "print(users)"
      ],
      "metadata": {
        "colab": {
          "base_uri": "https://localhost:8080/"
        },
        "id": "rjQeY1RsGjNW",
        "outputId": "a0049e94-ed49-4204-b1be-42cb17501348"
      },
      "execution_count": null,
      "outputs": [
        {
          "output_type": "stream",
          "name": "stdout",
          "text": [
            "METHOD-2\n",
            "         age gender     occupation zip_code\n",
            "user_id                                    \n",
            "1         24      M     technician    85711\n",
            "2         53      F          other    94043\n",
            "3         23      M         writer    32067\n",
            "4         24      M     technician    43537\n",
            "5         33      F          other    15213\n",
            "...      ...    ...            ...      ...\n",
            "939       26      F        student    33319\n",
            "940       32      M  administrator    02215\n",
            "941       20      M        student    97229\n",
            "942       48      F      librarian    78209\n",
            "943       22      M        student    77841\n",
            "\n",
            "[943 rows x 4 columns]\n"
          ]
        }
      ]
    },
    {
      "cell_type": "code",
      "source": [
        "#3) See the first 25 entries \n",
        "x=users.loc[1:26]\n",
        "print(x)"
      ],
      "metadata": {
        "colab": {
          "base_uri": "https://localhost:8080/"
        },
        "id": "nw2ek-A2HlnE",
        "outputId": "f7f5f40d-d35d-4ed0-ccf8-c90f13f5a969"
      },
      "execution_count": null,
      "outputs": [
        {
          "output_type": "stream",
          "name": "stdout",
          "text": [
            "         age gender     occupation zip_code\n",
            "user_id                                    \n",
            "1         24      M     technician    85711\n",
            "2         53      F          other    94043\n",
            "3         23      M         writer    32067\n",
            "4         24      M     technician    43537\n",
            "5         33      F          other    15213\n",
            "6         42      M      executive    98101\n",
            "7         57      M  administrator    91344\n",
            "8         36      M  administrator    05201\n",
            "9         29      M        student    01002\n",
            "10        53      M         lawyer    90703\n",
            "11        39      F          other    30329\n",
            "12        28      F          other    06405\n",
            "13        47      M       educator    29206\n",
            "14        45      M      scientist    55106\n",
            "15        49      F       educator    97301\n",
            "16        21      M  entertainment    10309\n",
            "17        30      M     programmer    06355\n",
            "18        35      F          other    37212\n",
            "19        40      M      librarian    02138\n",
            "20        42      F      homemaker    95660\n",
            "21        26      M         writer    30068\n",
            "22        25      M         writer    40206\n",
            "23        30      F         artist    48197\n",
            "24        21      F         artist    94533\n",
            "25        39      M       engineer    55107\n",
            "26        49      M       engineer    21044\n"
          ]
        }
      ]
    },
    {
      "cell_type": "code",
      "source": [
        "#4) See the last 10 entries\n",
        "print(users.loc[933:943])"
      ],
      "metadata": {
        "colab": {
          "base_uri": "https://localhost:8080/"
        },
        "id": "rsNlw58tHxmc",
        "outputId": "efa55fc2-ddca-4ce7-c36d-5c2f93246c59"
      },
      "execution_count": null,
      "outputs": [
        {
          "output_type": "stream",
          "name": "stdout",
          "text": [
            "         age gender     occupation zip_code\n",
            "user_id                                    \n",
            "933       28      M        student    48105\n",
            "934       61      M       engineer    22902\n",
            "935       42      M         doctor    66221\n",
            "936       24      M          other    32789\n",
            "937       48      M       educator    98072\n",
            "938       38      F     technician    55038\n",
            "939       26      F        student    33319\n",
            "940       32      M  administrator    02215\n",
            "941       20      M        student    97229\n",
            "942       48      F      librarian    78209\n",
            "943       22      M        student    77841\n"
          ]
        }
      ]
    },
    {
      "cell_type": "code",
      "source": [
        "#5) What is the number of observations in the dataset?\n",
        "print(users.describe)\n",
        "print(users.info)"
      ],
      "metadata": {
        "colab": {
          "base_uri": "https://localhost:8080/"
        },
        "id": "ml6OvF7SIGm1",
        "outputId": "df5731f5-736c-4cb3-b091-badb47db3ecb"
      },
      "execution_count": null,
      "outputs": [
        {
          "output_type": "stream",
          "name": "stdout",
          "text": [
            "<bound method NDFrame.describe of          age gender     occupation zip_code\n",
            "user_id                                    \n",
            "1         24      M     technician    85711\n",
            "2         53      F          other    94043\n",
            "3         23      M         writer    32067\n",
            "4         24      M     technician    43537\n",
            "5         33      F          other    15213\n",
            "...      ...    ...            ...      ...\n",
            "939       26      F        student    33319\n",
            "940       32      M  administrator    02215\n",
            "941       20      M        student    97229\n",
            "942       48      F      librarian    78209\n",
            "943       22      M        student    77841\n",
            "\n",
            "[943 rows x 4 columns]>\n",
            "<bound method DataFrame.info of          age gender     occupation zip_code\n",
            "user_id                                    \n",
            "1         24      M     technician    85711\n",
            "2         53      F          other    94043\n",
            "3         23      M         writer    32067\n",
            "4         24      M     technician    43537\n",
            "5         33      F          other    15213\n",
            "...      ...    ...            ...      ...\n",
            "939       26      F        student    33319\n",
            "940       32      M  administrator    02215\n",
            "941       20      M        student    97229\n",
            "942       48      F      librarian    78209\n",
            "943       22      M        student    77841\n",
            "\n",
            "[943 rows x 4 columns]>\n"
          ]
        }
      ]
    },
    {
      "cell_type": "code",
      "source": [
        "#6) What is the number of columns in the dataset? \n",
        "col=users.columns\n",
        "print(col)\n",
        "print(len(col))"
      ],
      "metadata": {
        "colab": {
          "base_uri": "https://localhost:8080/"
        },
        "id": "thlql_m4I3JC",
        "outputId": "bbceb21a-693b-47e8-8a84-350fbc0f3131"
      },
      "execution_count": null,
      "outputs": [
        {
          "output_type": "stream",
          "name": "stdout",
          "text": [
            "Index(['age', 'gender', 'occupation', 'zip_code'], dtype='object')\n",
            "4\n"
          ]
        }
      ]
    },
    {
      "cell_type": "code",
      "source": [
        "#7) Print the name of all the columns. \n",
        "col=users.columns\n",
        "print(col)"
      ],
      "metadata": {
        "colab": {
          "base_uri": "https://localhost:8080/"
        },
        "id": "KllVrV0GJPS9",
        "outputId": "901589d6-f9d6-4dcc-91f9-76789285a434"
      },
      "execution_count": null,
      "outputs": [
        {
          "output_type": "stream",
          "name": "stdout",
          "text": [
            "Index(['age', 'gender', 'occupation', 'zip_code'], dtype='object')\n"
          ]
        }
      ]
    },
    {
      "cell_type": "code",
      "source": [
        "#8) How is the dataset indexed?\n",
        "print(users.index)"
      ],
      "metadata": {
        "colab": {
          "base_uri": "https://localhost:8080/"
        },
        "id": "kmgl1ghbJsU8",
        "outputId": "742b7284-5e6f-4f79-89a9-92d5a6684323"
      },
      "execution_count": null,
      "outputs": [
        {
          "output_type": "stream",
          "name": "stdout",
          "text": [
            "Int64Index([  1,   2,   3,   4,   5,   6,   7,   8,   9,  10,\n",
            "            ...\n",
            "            934, 935, 936, 937, 938, 939, 940, 941, 942, 943],\n",
            "           dtype='int64', name='user_id', length=943)\n"
          ]
        }
      ]
    },
    {
      "cell_type": "code",
      "source": [
        "#9) What is the data type of each column?\n",
        "for i in users.columns:\n",
        "  print(i,\"-\"*3,users[i].dtype)"
      ],
      "metadata": {
        "colab": {
          "base_uri": "https://localhost:8080/"
        },
        "id": "qb6Eh9c1KB1i",
        "outputId": "56a032da-5087-4e83-b6e0-a23bd7cbf867"
      },
      "execution_count": null,
      "outputs": [
        {
          "output_type": "stream",
          "name": "stdout",
          "text": [
            "age --- int64\n",
            "gender --- object\n",
            "occupation --- object\n",
            "zip_code --- object\n"
          ]
        }
      ]
    },
    {
      "cell_type": "code",
      "source": [
        "#10) Print only the occupation column?\n",
        "print(users[\"occupation\"])"
      ],
      "metadata": {
        "colab": {
          "base_uri": "https://localhost:8080/"
        },
        "id": "jjbY2hfoKXcV",
        "outputId": "e8fff053-01b2-440b-dd97-f544635073e4"
      },
      "execution_count": null,
      "outputs": [
        {
          "output_type": "stream",
          "name": "stdout",
          "text": [
            "user_id\n",
            "1         technician\n",
            "2              other\n",
            "3             writer\n",
            "4         technician\n",
            "5              other\n",
            "           ...      \n",
            "939          student\n",
            "940    administrator\n",
            "941          student\n",
            "942        librarian\n",
            "943          student\n",
            "Name: occupation, Length: 943, dtype: object\n"
          ]
        }
      ]
    },
    {
      "cell_type": "code",
      "source": [
        "# 11) How many different occupations are in this dataset? \n",
        "print(users[\"occupation\"].unique)\n",
        "print(users.groupby(\"occupation\")[\"occupation\"].unique().count())"
      ],
      "metadata": {
        "colab": {
          "base_uri": "https://localhost:8080/"
        },
        "id": "5OGTRAPMLAOD",
        "outputId": "fea5a510-e663-4629-c6c9-e900b15f97c6"
      },
      "execution_count": null,
      "outputs": [
        {
          "output_type": "stream",
          "name": "stdout",
          "text": [
            "<bound method Series.unique of user_id\n",
            "1         technician\n",
            "2              other\n",
            "3             writer\n",
            "4         technician\n",
            "5              other\n",
            "           ...      \n",
            "939          student\n",
            "940    administrator\n",
            "941          student\n",
            "942        librarian\n",
            "943          student\n",
            "Name: occupation, Length: 943, dtype: object>\n",
            "21\n"
          ]
        }
      ]
    },
    {
      "cell_type": "code",
      "source": [
        "# (#12) What is the most frequent occupation?\n",
        "# uniq = users.groupby(\"occupation\")[\"occupation\"].count()\n",
        "# print(uniq.sort_values(ascending = False))\n",
        "# print(max(uniq))"
      ],
      "metadata": {
        "id": "KznCZNBLLLPj"
      },
      "execution_count": null,
      "outputs": []
    },
    {
      "cell_type": "code",
      "source": [
        "#13) Summarize the DataFrame.\n",
        "print(users.describe())"
      ],
      "metadata": {
        "colab": {
          "base_uri": "https://localhost:8080/"
        },
        "id": "bcqM6PWILg2M",
        "outputId": "f87fb7b0-6978-4547-bfba-a3e78b625284"
      },
      "execution_count": null,
      "outputs": [
        {
          "output_type": "stream",
          "name": "stdout",
          "text": [
            "              age\n",
            "count  943.000000\n",
            "mean    34.051962\n",
            "std     12.192740\n",
            "min      7.000000\n",
            "25%     25.000000\n",
            "50%     31.000000\n",
            "75%     43.000000\n",
            "max     73.000000\n"
          ]
        }
      ]
    },
    {
      "cell_type": "code",
      "source": [
        "#14) Summarize all the columns. \n",
        "print(users.describe(include = \"all\"))"
      ],
      "metadata": {
        "colab": {
          "base_uri": "https://localhost:8080/"
        },
        "id": "II13udeTMLPf",
        "outputId": "6636fdfb-c262-485f-ccf0-882c4153ae74"
      },
      "execution_count": null,
      "outputs": [
        {
          "output_type": "stream",
          "name": "stdout",
          "text": [
            "               age gender occupation zip_code\n",
            "count   943.000000    943        943      943\n",
            "unique         NaN      2         21      795\n",
            "top            NaN      M    student    55414\n",
            "freq           NaN    670        196        9\n",
            "mean     34.051962    NaN        NaN      NaN\n",
            "std      12.192740    NaN        NaN      NaN\n",
            "min       7.000000    NaN        NaN      NaN\n",
            "25%      25.000000    NaN        NaN      NaN\n",
            "50%      31.000000    NaN        NaN      NaN\n",
            "75%      43.000000    NaN        NaN      NaN\n",
            "max      73.000000    NaN        NaN      NaN\n"
          ]
        }
      ]
    },
    {
      "cell_type": "code",
      "source": [
        "#15) Summarize only the occupation column?\n",
        "print(\"MAke sure you access only occuupation column \")\n",
        "print(users[\"occupation\"].describe()) "
      ],
      "metadata": {
        "colab": {
          "base_uri": "https://localhost:8080/"
        },
        "id": "5vQlLjlJN9QE",
        "outputId": "e02b61b5-80b4-491a-fad1-8b1f469883b3"
      },
      "execution_count": null,
      "outputs": [
        {
          "output_type": "stream",
          "name": "stdout",
          "text": [
            "MAke sure you access only occuupation column \n",
            "count         943\n",
            "unique         21\n",
            "top       student\n",
            "freq          196\n",
            "Name: occupation, dtype: object\n"
          ]
        }
      ]
    },
    {
      "cell_type": "code",
      "source": [
        "# 16) What is the mean age of users?\n",
        "print(\"The mean age of the employees is \\n\",np.mean(users[\"age\"]))\n",
        "x=np.mean(users[\"age\"])\n",
        "print(round(x,0))"
      ],
      "metadata": {
        "colab": {
          "base_uri": "https://localhost:8080/"
        },
        "id": "ueBaX6fcOGQN",
        "outputId": "ec31d651-a8db-44a1-f125-79213baeb412"
      },
      "execution_count": null,
      "outputs": [
        {
          "output_type": "stream",
          "name": "stdout",
          "text": [
            "The mean age of the employees is \n",
            " 34.05196182396607\n",
            "34.0\n"
          ]
        }
      ]
    },
    {
      "cell_type": "code",
      "source": [
        "#17) What is the age with least occurrence? \n",
        "age_1=users.groupby(\"age\")[\"age\"].count()\n",
        "print(age_1.sort_values(ascending=True))\n",
        "print(age_1[age_1==1])"
      ],
      "metadata": {
        "colab": {
          "base_uri": "https://localhost:8080/"
        },
        "id": "tzzTjdiyOxJf",
        "outputId": "4d883957-3def-4c47-9ead-8d0fca40e1de"
      },
      "execution_count": null,
      "outputs": [
        {
          "output_type": "stream",
          "name": "stdout",
          "text": [
            "age\n",
            "7      1\n",
            "66     1\n",
            "73     1\n",
            "10     1\n",
            "11     1\n",
            "      ..\n",
            "27    35\n",
            "28    36\n",
            "22    37\n",
            "25    38\n",
            "30    39\n",
            "Name: age, Length: 61, dtype: int64\n",
            "age\n",
            "7     1\n",
            "10    1\n",
            "11    1\n",
            "66    1\n",
            "73    1\n",
            "Name: age, dtype: int64\n"
          ]
        }
      ]
    },
    {
      "cell_type": "code",
      "source": [
        "#18) Discover what is the mean age per occupation.?\n",
        "age_m = users[\"age\"].unique().sum()\n",
        "print(age_m)\n",
        "occ_m= users.groupby(\"occupation\")[\"occupation\"].unique().count()\n",
        "mean_age_per_occ= age_m/occ_m\n",
        "print(mean_age_per_occ)"
      ],
      "metadata": {
        "colab": {
          "base_uri": "https://localhost:8080/"
        },
        "id": "FnJkV12pPK5i",
        "outputId": "a6c65147-f2e3-47d1-eace-f4c2b4ec69b4"
      },
      "execution_count": null,
      "outputs": [
        {
          "output_type": "stream",
          "name": "stdout",
          "text": [
            "2441\n",
            "116.23809523809524\n"
          ]
        }
      ]
    },
    {
      "cell_type": "code",
      "source": [
        "#18) Discover what is the mean age per occupation.?\n",
        "age_m = users[\"age\"].sum()\n",
        "age_m\n",
        "occ_m = users[\"occupation\"].count()\n",
        "occ_m\n",
        "mean_age_per_occ= age_m/occ_m\n",
        "mean_age_per_occ"
      ],
      "metadata": {
        "colab": {
          "base_uri": "https://localhost:8080/"
        },
        "id": "sO9-loKmQM7O",
        "outputId": "401fde8b-1a75-4f3d-9527-64cf0d80b10c"
      },
      "execution_count": null,
      "outputs": [
        {
          "output_type": "execute_result",
          "data": {
            "text/plain": [
              "34.05196182396607"
            ]
          },
          "metadata": {},
          "execution_count": 23
        }
      ]
    },
    {
      "cell_type": "code",
      "source": [
        "#19) Discover the Male ratio per occupation and sort it from the most to the least.\n",
        "rat=users.groupby(\"occupation\")[\"gender\"].value_counts()\n",
        "rat_1=users.groupby(\"occupation\")[\"gender\"].count()\n",
        "l1=list(rat)\n",
        "l2=list(rat_1)\n",
        "print(l1)\n",
        "print(l2)\n",
        "ratio_up=[]\n",
        "for i in l1[::2]:\n",
        "  j=0\n",
        "  ratio = i/l2[j]\n",
        "  ratio_up.append(ratio)\n",
        "  j+=1\n",
        "print(ratio_up)\n",
        "print(len(ratio_up))"
      ],
      "metadata": {
        "colab": {
          "base_uri": "https://localhost:8080/"
        },
        "id": "6BXbAnQ4RsuZ",
        "outputId": "792a1cac-a038-41cc-cad4-7223f3572663"
      },
      "execution_count": null,
      "outputs": [
        {
          "output_type": "stream",
          "name": "stdout",
          "text": [
            "[43, 36, 15, 13, 7, 69, 26, 65, 2, 16, 2, 29, 3, 11, 5, 6, 1, 10, 2, 29, 22, 16, 10, 5, 4, 69, 36, 60, 6, 13, 1, 9, 3, 28, 3, 136, 60, 26, 1, 26, 19]\n",
            "[79, 28, 7, 95, 67, 18, 32, 16, 7, 12, 51, 26, 9, 105, 66, 14, 12, 31, 196, 27, 45]\n",
            "[0.5443037974683544, 0.189873417721519, 0.08860759493670886, 0.3291139240506329, 0.02531645569620253, 0.02531645569620253, 0.0379746835443038, 0.06329113924050633, 0.012658227848101266, 0.02531645569620253, 0.27848101265822783, 0.12658227848101267, 0.05063291139240506, 0.45569620253164556, 0.0759493670886076, 0.012658227848101266, 0.0379746835443038, 0.0379746835443038, 0.759493670886076, 0.012658227848101266, 0.24050632911392406]\n",
            "21\n"
          ]
        }
      ]
    },
    {
      "cell_type": "code",
      "source": [
        "#20) For each occupation, calculate the minimum and maximum ages \n",
        "x=users.groupby(\"occupation\")[\"age\"].unique()\n",
        "print(users.occupation.unique())\n",
        "print(list(x))\n",
        "for i in list(x):\n",
        "  print(max(i))"
      ],
      "metadata": {
        "id": "oOQU1PrxUpi3",
        "colab": {
          "base_uri": "https://localhost:8080/"
        },
        "outputId": "9156ebdc-12cd-446d-a562-5a568f22d421"
      },
      "execution_count": null,
      "outputs": [
        {
          "output_type": "stream",
          "name": "stdout",
          "text": [
            "['technician' 'other' 'writer' 'executive' 'administrator' 'student'\n",
            " 'lawyer' 'educator' 'scientist' 'entertainment' 'programmer' 'librarian'\n",
            " 'homemaker' 'artist' 'engineer' 'marketing' 'none' 'healthcare' 'retired'\n",
            " 'salesman' 'doctor']\n",
            "[array([57, 36, 38, 30, 45, 27, 48, 26, 39, 34, 47, 43, 31, 21, 59, 49, 22,\n",
            "       33, 37, 51, 42, 28, 62, 35, 41, 25, 23, 50, 53, 54, 44, 32, 29, 70,\n",
            "       46]), array([30, 21, 24, 25, 43, 48, 45, 20, 32, 39, 40, 33, 27, 29, 34, 19, 28,\n",
            "       44, 36]), array([46, 28, 29, 51, 45, 64, 42]), array([47, 49, 28, 32, 51, 60, 44, 50, 33, 25, 48, 26, 42, 41, 31, 37, 23,\n",
            "       29, 35, 61, 40, 52, 34, 55, 39, 53, 57, 30, 56, 45, 58, 46, 36, 54,\n",
            "       38, 27, 63]), array([39, 49, 33, 36, 24, 27, 57, 31, 53, 43, 22, 38, 28, 42, 23, 51, 40,\n",
            "       46, 63, 32, 45, 30, 29, 44, 34, 26, 25, 70, 37, 35, 61]), array([21, 41, 24, 32, 31, 15, 23, 33, 17, 26, 22, 38, 50, 49]), array([42, 22, 32, 48, 49, 36, 47, 26, 39, 33, 46, 29, 40, 44, 45, 51, 69,\n",
            "       31, 58, 25, 38]), array([50, 40, 47, 53, 46, 22, 48, 62, 49, 26, 31, 43, 29, 41, 28]), array([42, 20, 32, 35, 26, 50, 23]), array([53, 30, 28, 50, 47, 35, 29, 37, 51, 21, 33, 27]), array([40, 29, 25, 49, 54, 37, 53, 52, 26, 30, 48, 31, 32, 39, 28, 23, 33,\n",
            "       43, 69, 57, 46, 42, 55, 35, 51, 56, 59, 45, 44]), array([27, 53, 31, 55, 24, 36, 35, 39, 34, 41, 30, 33, 40, 37, 44, 50, 43]), array([16, 33, 20, 35, 11, 55, 13, 26, 30]), array([53, 33, 39, 28, 35, 40, 29, 47, 24, 51, 13, 32, 20, 37, 48, 52, 56,\n",
            "       26, 22, 50, 45, 43, 25, 34, 31, 27, 64, 30, 57, 44, 55, 23, 46, 21,\n",
            "       42, 19, 18, 41, 36]), array([30, 41, 29, 26, 37, 27, 50, 38, 32, 31, 49, 53, 20, 36, 40, 35, 33,\n",
            "       28, 25, 23, 44, 52, 24, 42, 46, 34, 21, 60, 63]), array([61, 60, 65, 68, 57, 73, 51, 70]), array([30, 66, 21, 23, 36, 35, 33, 56, 45, 18]), array([45, 38, 39, 26, 28, 33, 42, 40, 37, 25, 29, 31, 32, 55, 23, 27, 24,\n",
            "       36, 41, 44]), array([29,  7, 28, 23, 19, 18, 17, 24, 20, 21, 26, 15, 27, 34, 30, 25, 42,\n",
            "       14, 22, 32, 35, 16, 10, 40, 36, 13, 31, 38]), array([24, 26, 30, 42, 55, 28, 34, 32, 48, 50, 47, 27, 21, 35, 22, 38]), array([23, 26, 25, 32, 21, 49, 30, 27, 44, 36, 24, 52, 42, 60, 43, 50, 40,\n",
            "       18, 51, 56, 29, 48, 22, 34, 28, 37])]\n",
            "70\n",
            "48\n",
            "64\n",
            "63\n",
            "70\n",
            "50\n",
            "69\n",
            "62\n",
            "50\n",
            "53\n",
            "69\n",
            "55\n",
            "55\n",
            "64\n",
            "63\n",
            "73\n",
            "66\n",
            "55\n",
            "42\n",
            "55\n",
            "60\n"
          ]
        }
      ]
    },
    {
      "cell_type": "code",
      "source": [
        "#21) For each combination of occupation and gender, calculate the mean age.\n",
        "x1=users.groupby(\"occupation\")[\"age\"].unique()\n",
        "print(list(x1))\n",
        "for i in list(x1):\n",
        "  print(np.mean(i),end=\" \")\n",
        "x2=users.groupby(\"gender\")[\"age\"].unique()\n",
        "print(list(x2))\n",
        "for j in list(x2):\n",
        "  print(np.mean(j),end=\" \")"
      ],
      "metadata": {
        "id": "CeI4PABEVSRS",
        "colab": {
          "base_uri": "https://localhost:8080/"
        },
        "outputId": "31402d4a-9a97-43a6-e93b-8fa7dd857fb7"
      },
      "execution_count": null,
      "outputs": [
        {
          "output_type": "stream",
          "name": "stdout",
          "text": [
            "[array([57, 36, 38, 30, 45, 27, 48, 26, 39, 34, 47, 43, 31, 21, 59, 49, 22,\n",
            "       33, 37, 51, 42, 28, 62, 35, 41, 25, 23, 50, 53, 54, 44, 32, 29, 70,\n",
            "       46]), array([30, 21, 24, 25, 43, 48, 45, 20, 32, 39, 40, 33, 27, 29, 34, 19, 28,\n",
            "       44, 36]), array([46, 28, 29, 51, 45, 64, 42]), array([47, 49, 28, 32, 51, 60, 44, 50, 33, 25, 48, 26, 42, 41, 31, 37, 23,\n",
            "       29, 35, 61, 40, 52, 34, 55, 39, 53, 57, 30, 56, 45, 58, 46, 36, 54,\n",
            "       38, 27, 63]), array([39, 49, 33, 36, 24, 27, 57, 31, 53, 43, 22, 38, 28, 42, 23, 51, 40,\n",
            "       46, 63, 32, 45, 30, 29, 44, 34, 26, 25, 70, 37, 35, 61]), array([21, 41, 24, 32, 31, 15, 23, 33, 17, 26, 22, 38, 50, 49]), array([42, 22, 32, 48, 49, 36, 47, 26, 39, 33, 46, 29, 40, 44, 45, 51, 69,\n",
            "       31, 58, 25, 38]), array([50, 40, 47, 53, 46, 22, 48, 62, 49, 26, 31, 43, 29, 41, 28]), array([42, 20, 32, 35, 26, 50, 23]), array([53, 30, 28, 50, 47, 35, 29, 37, 51, 21, 33, 27]), array([40, 29, 25, 49, 54, 37, 53, 52, 26, 30, 48, 31, 32, 39, 28, 23, 33,\n",
            "       43, 69, 57, 46, 42, 55, 35, 51, 56, 59, 45, 44]), array([27, 53, 31, 55, 24, 36, 35, 39, 34, 41, 30, 33, 40, 37, 44, 50, 43]), array([16, 33, 20, 35, 11, 55, 13, 26, 30]), array([53, 33, 39, 28, 35, 40, 29, 47, 24, 51, 13, 32, 20, 37, 48, 52, 56,\n",
            "       26, 22, 50, 45, 43, 25, 34, 31, 27, 64, 30, 57, 44, 55, 23, 46, 21,\n",
            "       42, 19, 18, 41, 36]), array([30, 41, 29, 26, 37, 27, 50, 38, 32, 31, 49, 53, 20, 36, 40, 35, 33,\n",
            "       28, 25, 23, 44, 52, 24, 42, 46, 34, 21, 60, 63]), array([61, 60, 65, 68, 57, 73, 51, 70]), array([30, 66, 21, 23, 36, 35, 33, 56, 45, 18]), array([45, 38, 39, 26, 28, 33, 42, 40, 37, 25, 29, 31, 32, 55, 23, 27, 24,\n",
            "       36, 41, 44]), array([29,  7, 28, 23, 19, 18, 17, 24, 20, 21, 26, 15, 27, 34, 30, 25, 42,\n",
            "       14, 22, 32, 35, 16, 10, 40, 36, 13, 31, 38]), array([24, 26, 30, 42, 55, 28, 34, 32, 48, 50, 47, 27, 21, 35, 22, 38]), array([23, 26, 25, 32, 21, 49, 30, 27, 44, 36, 24, 52, 42, 60, 43, 50, 40,\n",
            "       18, 51, 56, 29, 48, 22, 34, 28, 37])]\n",
            "40.2 32.473684210526315 43.57142857142857 42.567567567567565 39.12903225806452 30.142857142857142 40.476190476190474 41.0 32.57142857142857 36.75 42.44827586206897 38.35294117647059 26.555555555555557 36.82051282051282 36.86206896551724 63.125 36.3 34.75 24.714285714285715 34.9375 36.42307692307692 [array([53, 33, 39, 28, 49, 35, 42, 30, 21, 40, 38, 20, 19, 29, 27, 23, 18,\n",
            "       51, 48, 34, 43, 25, 47, 32, 24, 36, 59, 52, 26, 22, 41, 14, 31, 44,\n",
            "       62, 50, 37, 15, 17, 46, 55, 16, 45, 56, 54, 57, 13, 70]), array([24, 23, 42, 57, 36, 29, 53, 47, 45, 21, 30, 40, 26, 25, 39, 49, 32,\n",
            "       41,  7, 38, 33, 28, 22, 37, 16, 27, 50, 31, 17, 19, 20, 51, 60, 55,\n",
            "       48, 43, 15, 61, 44, 54, 34, 46, 13, 56, 66, 35, 11, 65, 18, 68, 63,\n",
            "       52, 64, 10, 73, 62, 58, 69, 70, 59])]\n",
            "36.791666666666664 40.45 "
          ]
        }
      ]
    },
    {
      "cell_type": "code",
      "source": [
        "##22) For each occupation present the percentage of women and men\n",
        "y =users.groupby(\"occupation\")[\"gender\"].value_counts()\n",
        "print(y)\n",
        "z = users.groupby(\"occupation\")[\"gender\"].count()\n",
        "print(z)\n",
        "mean_1= y/z\n",
        "print(mean_1)"
      ],
      "metadata": {
        "id": "k2vS8KWcXpRf",
        "colab": {
          "base_uri": "https://localhost:8080/"
        },
        "outputId": "6b364ef5-16da-4937-fef8-46d1d7b223d8"
      },
      "execution_count": null,
      "outputs": [
        {
          "output_type": "stream",
          "name": "stdout",
          "text": [
            "occupation     gender\n",
            "administrator  M          43\n",
            "               F          36\n",
            "artist         M          15\n",
            "               F          13\n",
            "doctor         M           7\n",
            "educator       M          69\n",
            "               F          26\n",
            "engineer       M          65\n",
            "               F           2\n",
            "entertainment  M          16\n",
            "               F           2\n",
            "executive      M          29\n",
            "               F           3\n",
            "healthcare     F          11\n",
            "               M           5\n",
            "homemaker      F           6\n",
            "               M           1\n",
            "lawyer         M          10\n",
            "               F           2\n",
            "librarian      F          29\n",
            "               M          22\n",
            "marketing      M          16\n",
            "               F          10\n",
            "none           M           5\n",
            "               F           4\n",
            "other          M          69\n",
            "               F          36\n",
            "programmer     M          60\n",
            "               F           6\n",
            "retired        M          13\n",
            "               F           1\n",
            "salesman       M           9\n",
            "               F           3\n",
            "scientist      M          28\n",
            "               F           3\n",
            "student        M         136\n",
            "               F          60\n",
            "technician     M          26\n",
            "               F           1\n",
            "writer         M          26\n",
            "               F          19\n",
            "Name: gender, dtype: int64\n",
            "occupation\n",
            "administrator     79\n",
            "artist            28\n",
            "doctor             7\n",
            "educator          95\n",
            "engineer          67\n",
            "entertainment     18\n",
            "executive         32\n",
            "healthcare        16\n",
            "homemaker          7\n",
            "lawyer            12\n",
            "librarian         51\n",
            "marketing         26\n",
            "none               9\n",
            "other            105\n",
            "programmer        66\n",
            "retired           14\n",
            "salesman          12\n",
            "scientist         31\n",
            "student          196\n",
            "technician        27\n",
            "writer            45\n",
            "Name: gender, dtype: int64\n",
            "occupation     gender\n",
            "administrator  M         0.544304\n",
            "               F         0.455696\n",
            "artist         M         0.535714\n",
            "               F         0.464286\n",
            "doctor         M         1.000000\n",
            "educator       M         0.726316\n",
            "               F         0.273684\n",
            "engineer       M         0.970149\n",
            "               F         0.029851\n",
            "entertainment  M         0.888889\n",
            "               F         0.111111\n",
            "executive      M         0.906250\n",
            "               F         0.093750\n",
            "healthcare     F         0.687500\n",
            "               M         0.312500\n",
            "homemaker      F         0.857143\n",
            "               M         0.142857\n",
            "lawyer         M         0.833333\n",
            "               F         0.166667\n",
            "librarian      F         0.568627\n",
            "               M         0.431373\n",
            "marketing      M         0.615385\n",
            "               F         0.384615\n",
            "none           M         0.555556\n",
            "               F         0.444444\n",
            "other          M         0.657143\n",
            "               F         0.342857\n",
            "programmer     M         0.909091\n",
            "               F         0.090909\n",
            "retired        M         0.928571\n",
            "               F         0.071429\n",
            "salesman       M         0.750000\n",
            "               F         0.250000\n",
            "scientist      M         0.903226\n",
            "               F         0.096774\n",
            "student        M         0.693878\n",
            "               F         0.306122\n",
            "technician     M         0.962963\n",
            "               F         0.037037\n",
            "writer         M         0.577778\n",
            "               F         0.422222\n",
            "Name: gender, dtype: float64\n"
          ]
        }
      ]
    },
    {
      "cell_type": "code",
      "source": [
        "#loading the data set\n",
        "import pandas as pd\n",
        "import numpy as np\n",
        "print(\"loading the data set:\\n\")\n",
        "users1 = pd.read_csv(\"drinks.csv\")\n",
        "print(users1)"
      ],
      "metadata": {
        "id": "jhLh2xeTZNPc"
      },
      "execution_count": null,
      "outputs": []
    },
    {
      "cell_type": "code",
      "source": [
        "#loading data set -2\n",
        "print(\"Loading data set-2\\n\")\n",
        "stud = pd.read_csv(\"student-mat.csv\")\n",
        "print(stud)"
      ],
      "metadata": {
        "id": "Fz2oR2ipab3F"
      },
      "execution_count": null,
      "outputs": []
    },
    {
      "cell_type": "code",
      "source": [
        "#PART-A\n",
        "#1Upload the data file, view the data file in Colab.\n",
        "#2Read and Assign it to a variable called users and use the 'user_id' as index.\n",
        "#3Which continent drinks more beer on average?.\n",
        "#4For each continent print the statistics for wine consumption.\n",
        "#5Print the mean alcohol consumption per continent for every column.\n",
        "#6Print the median alcohol consumption per continent for every column.\n",
        "#7Print the mean, min and max values for spirit consumption."
      ],
      "metadata": {
        "id": "z8zguHZBXM3J"
      },
      "execution_count": null,
      "outputs": []
    },
    {
      "cell_type": "code",
      "source": [
        "#1Upload the data file, view the data file in Colab.\n",
        "#2Read and Assign it to a variable called users and use the 'user_id' as index.\n",
        "users1 = pd.read_csv(\"drinks_1.csv\", index_col=\"user_id\")\n",
        "print(users1)"
      ],
      "metadata": {
        "id": "A_C3dzH6XM7v"
      },
      "execution_count": null,
      "outputs": []
    },
    {
      "cell_type": "code",
      "source": [
        "#3Which continent drinks more beer on average?.\n",
        "users1[\"beer_servings\"].max()\n",
        "z=users1.groupby(\"continent\")[\"beer_servings\"].mean()\n",
        "a=users1.groupby(\"continent\")[\"beer_servings\"].agg([\"mean\",\"max\"])\n",
        "print(z)\n",
        "print(z.max())\n",
        "z.sort_values(ascending=False)\n",
        "z.agg(['max'])\n",
        "print(a)"
      ],
      "metadata": {
        "id": "O6qcf_ilXM-E"
      },
      "execution_count": null,
      "outputs": []
    },
    {
      "cell_type": "code",
      "source": [
        "#4 For each continent print the statistics for wine consumption.\n",
        "w=users1.groupby(\"continent\")[\"wine_servings\"].mean()\n",
        "w1= users1.groupby(\"continent\")[\"wine_servings\"].median()\n",
        "w2 = users1.groupby(\"continent\")[\"wine_servings\"].describe(include=\"all\")\n",
        "print(w,w1,\"\\n\",w2)"
      ],
      "metadata": {
        "id": "tsgIGjrZXNAS"
      },
      "execution_count": null,
      "outputs": []
    },
    {
      "cell_type": "code",
      "source": [
        "#5Print the mean alcohol consumption per continent for every column.\n",
        "x=users1.groupby(\"continent\")[\"beer_servings\"].mean()\n",
        "y=users1.groupby(\"continent\")[\"spirit_servings\"].mean() #pivoting in excel for managig the attribute \n",
        "z=users1.groupby(\"continent\")[\"wine_servings\"].mean()\n",
        "print(\"beer_avg\",x,\"\\n spirit_mean\",y,\"\\nwines_mean\",z)\n",
        "pd.DataFrame({\"beer_avg\":x,\"spirit_avg\":y,\"wine_avg\":z})"
      ],
      "metadata": {
        "id": "nYoDcTTef_yV"
      },
      "execution_count": null,
      "outputs": []
    },
    {
      "cell_type": "code",
      "source": [
        "#5Print the mean alcohol consumption per continent for every column.\n",
        "#method-2\n",
        "cont_mean = users1.groupby(\"continent\").mean()\n",
        "print(cont_mean)"
      ],
      "metadata": {
        "id": "Lv88YRZvhFe8"
      },
      "execution_count": null,
      "outputs": []
    },
    {
      "cell_type": "code",
      "source": [
        "#6 continent median for alchol consumption\n",
        "cont_median1 = users1.groupby(\"continent\").median()\n",
        "print(cont_median1)\n"
      ],
      "metadata": {
        "id": "Mmz4wGzjhztt"
      },
      "execution_count": null,
      "outputs": []
    },
    {
      "cell_type": "code",
      "source": [
        "#7Print the mean, min and max values for spirit consumption.\n",
        "m_me_max_min=users1[\"spirit_servings\"].describe(include=\"all\") \n",
        "print(m_me_max_min)\n",
        "print(users1.groupby(\"continent\")[\"spirit_servings\"].agg(['mean','min','max']))"
      ],
      "metadata": {
        "id": "0b8tXbWRiEZF"
      },
      "execution_count": null,
      "outputs": []
    },
    {
      "cell_type": "code",
      "source": [
        "#part-2\n",
        "# PART _B\n",
        "# Upload new data file ‘student-mat’\n",
        "# For the purpose of this exercise slice the dataframe from 'school' until the 'guardian' column\n",
        "# Create a lambda function that will capitalize strings.\n",
        "# Capitalize both Mjob and Fjob\n",
        "# Print the last elements of the data set.\n",
        "# Create a function called majority that returns a boolean value to a new column called legal_drinker (Consider majority as older than 17 years old)\n",
        "# Multiply every number of the dataset by 10"
      ],
      "metadata": {
        "id": "spTHRAhoiWuS"
      },
      "execution_count": null,
      "outputs": []
    },
    {
      "cell_type": "code",
      "source": [
        "#1 Upload new data file ‘student-mat’\n",
        "stud = pd.read_csv(\"student-mat.csv\",delimiter = \",\")\n",
        "print(stud)"
      ],
      "metadata": {
        "id": "6h5mw4YHtiiJ"
      },
      "execution_count": null,
      "outputs": []
    },
    {
      "cell_type": "code",
      "source": [
        "#2 For the purpose of this exercise slice the dataframe from 'school' until the 'guardian' column.\n",
        "print(stud.loc[:,\"school\":\"guardian\"])"
      ],
      "metadata": {
        "id": "IV6iXFVvtjES"
      },
      "execution_count": null,
      "outputs": []
    },
    {
      "cell_type": "code",
      "source": [
        "#5. Create a lambda function that will capitalize strings.\n",
        "cap = lambda x:x.capitalize()"
      ],
      "metadata": {
        "id": "FsBDpxBTtjHl"
      },
      "execution_count": null,
      "outputs": []
    },
    {
      "cell_type": "code",
      "source": [
        "#6 Capitalize both Mjob and Fjob\n",
        "#The upper() method returns a string where all characters are in upper case. Symbols and Numbers are ignored.\n",
        "stud[\"Mjob\"]=stud[\"Mjob\"].apply(cap)\n",
        "print(stud[\"Mjob\"])\n",
        "stud[\"Fjob\"]=stud[\"Fjob\"].apply(cap)\n",
        "print(stud[\"Fjob\"])"
      ],
      "metadata": {
        "id": "qIkrkhoatjKS"
      },
      "execution_count": null,
      "outputs": []
    },
    {
      "cell_type": "code",
      "source": [
        "# Print the last elements of the data set.\n",
        "print(stud.tail(1))\n",
        "stud[-2:-1]"
      ],
      "metadata": {
        "id": "Ur125ZbrtjMt"
      },
      "execution_count": null,
      "outputs": []
    },
    {
      "cell_type": "code",
      "source": [
        "# ## Create a function called majority that returns a boolean value to a new column\n",
        "# ##called legal_drinker (Consider majority as older than 17 years old).\n",
        "# # def majority(arg):\n",
        "# #   for i in range(len(arg)+1):\n",
        "# #     if arg[i]>=17:\n",
        "# #       stud[\"legal_drinker\"]= True\n",
        "# #     else:\n",
        "# #       stud[\"legal_drinker\"]= False\n",
        "\n",
        "# # majority(stud[\"age\"])\n",
        "# print(len(stud[\"age\"]))\n",
        "# print(stud)\n",
        "# stud.tail()"
      ],
      "metadata": {
        "id": "KMpINnTrtjPY"
      },
      "execution_count": null,
      "outputs": []
    },
    {
      "cell_type": "code",
      "source": [
        "def majority(age):\n",
        "  if age>17:\n",
        "    return True\n",
        "  else:\n",
        "    return False\n",
        "\n",
        "stud[\"legal_drinker\"]=stud[\"age\"].apply(majority)\n",
        "print(stud)"
      ],
      "metadata": {
        "id": "7Qc-LQTktjRi"
      },
      "execution_count": null,
      "outputs": []
    },
    {
      "cell_type": "code",
      "source": [
        "## Multiply every number of the dataset by 10\n",
        "def times_10(x):\n",
        "  if type(x) is int:\n",
        "    return x*10\n",
        "\n",
        "stud= stud.applymap(times_10) #important\n",
        "print(stud.head(10))"
      ],
      "metadata": {
        "id": "1Lii38UcyzD6"
      },
      "execution_count": null,
      "outputs": []
    },
    {
      "cell_type": "code",
      "source": [
        "for i in range(len(stud.columns)+1):\n",
        "  if stud.columns.dtype == int:\n",
        "    return stud[i]*10\n",
        "  "
      ],
      "metadata": {
        "id": "V8FfsV4s2Orl"
      },
      "execution_count": null,
      "outputs": []
    },
    {
      "cell_type": "code",
      "source": [],
      "metadata": {
        "id": "ea4boQREn54R"
      },
      "execution_count": null,
      "outputs": []
    }
  ]
}